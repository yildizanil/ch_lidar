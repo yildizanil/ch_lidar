{
 "cells": [
  {
   "cell_type": "markdown",
   "metadata": {},
   "source": [
    "# swissSURFACE3D\n",
    "\n",
    "All natural and man-made objects of the surface of Switzerland in the form of a classified point cloud collected by airborne LiDAR. See https://www.swisstopo.admin.ch/en/geodata/height/surface3d.html for details."
   ]
  },
  {
   "cell_type": "markdown",
   "metadata": {},
   "source": [
    "## Summary\n",
    "\n",
    "**Structure:** 1 km<sup>2</sup> tiles.\n",
    "\n",
    "**Format and file sizes:** LAS 1.2 ~ 610 MB \n",
    "\n",
    "**Classification:**\n",
    "\n",
    "| Class | Object type | ASPRS class name |\n",
    "| ------ | ------ | ------ |\n",
    "| 1 | Unclassified and temporary objects | Unclassified |\n",
    "| 2 | Ground | Ground |\n",
    "| 3 | Vegetation | Low Vegetation |\n",
    "| 6 | Buildings | Building |\n",
    "| 9 | Water | Water |\n",
    "| 17 | Bridges, viaducts | Bridge Deck |\n",
    "\n",
    "**Points density:** Minimum 5 pts/m<sup>2</sup>, mean around 15-20 pts/m<sup>2</sup>\n",
    "\n",
    "**Coordinates system:** LV95 – LN02 \n",
    "\n",
    "**Planimetric accuracy:** +/- 20 cm (1 sigma)\n",
    "\n",
    "**Altimetric accuracy:** +/- 10 cm (1 sigma)\n",
    "\n",
    "Please see the Jupyter Notebook ```example.ipynb``` to see how to download and unzip the files for our use case."
   ]
  }
 ],
 "metadata": {
  "kernelspec": {
   "display_name": "Python 3.10.6 ('ch_lidar')",
   "language": "python",
   "name": "python3"
  },
  "language_info": {
   "codemirror_mode": {
    "name": "ipython",
    "version": 3
   },
   "file_extension": ".py",
   "mimetype": "text/x-python",
   "name": "python",
   "nbconvert_exporter": "python",
   "pygments_lexer": "ipython3",
   "version": "3.10.6"
  },
  "orig_nbformat": 4,
  "vscode": {
   "interpreter": {
    "hash": "7e9cdfeb79cca1ab581dd23cc873039491f34bfa8e42272a013226df48d2ccb1"
   }
  }
 },
 "nbformat": 4,
 "nbformat_minor": 2
}
